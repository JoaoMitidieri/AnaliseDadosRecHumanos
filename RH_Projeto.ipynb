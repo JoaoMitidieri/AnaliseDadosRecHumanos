{
 "cells": [
  {
   "cell_type": "markdown",
   "id": "a8134645",
   "metadata": {},
   "source": [
    "# Análise de Dados de Recursos Humanos"
   ]
  },
  {
   "cell_type": "markdown",
   "id": "e61fdf9d",
   "metadata": {},
   "source": [
    "### Contexto:"
   ]
  },
  {
   "cell_type": "markdown",
   "id": "9b206e88",
   "metadata": {},
   "source": [
    "Uma  empresa  de  consultoria que  atua  em  Big  Data  e  Data  Science  deseja  contratar Cientistas de Dados entre pessoas que obtenham aprovação em alguns cursos ministrados pela empresa, e nisso muitas pessoas se inscrevem para o treinamento.\n",
    "\n"
   ]
  },
  {
   "cell_type": "markdown",
   "id": "a57d18ba",
   "metadata": {},
   "source": [
    "### Defindo o Problema de Negócio:"
   ]
  },
  {
   "cell_type": "markdown",
   "id": "dcce0be3",
   "metadata": {},
   "source": [
    "O objetivo é  contratar  os  profissionais  com  perfil  adequado, a  fim  dereduzir  o  custo  e  o  tempo de contratação, bem como a qualidade do treinamento ou planejamento dos cursos e categorização dos candidatos. \n",
    "\n",
    "Nosso objetivo será analisar os dados, compreender como  estão  organizados,  realizar  limpeza e  transformação  dos  dados  conforme  necessário, para que consigamos encontrar perfil  adequado, para saber realmente quais candidatos querem trabalhar na empresa após o treinamento."
   ]
  },
  {
   "cell_type": "markdown",
   "id": "244a2775",
   "metadata": {},
   "source": [
    "## Instalando e Carregando os Pacotes"
   ]
  },
  {
   "cell_type": "code",
   "execution_count": 1,
   "id": "d414f28e",
   "metadata": {},
   "outputs": [],
   "source": [
    "!pip install -q category_encoders"
   ]
  },
  {
   "cell_type": "code",
   "execution_count": 2,
   "id": "76673331",
   "metadata": {},
   "outputs": [],
   "source": [
    "!pip install -q plotly"
   ]
  },
  {
   "cell_type": "code",
   "execution_count": 3,
   "id": "114ad636",
   "metadata": {},
   "outputs": [],
   "source": [
    "# Importando os Pacotes\n",
    "\n",
    "# Manipulação de dados\n",
    "import pandas as pd\n",
    "import numpy as np\n",
    "\n",
    "# Visualização\n",
    "import matplotlib.pyplot as plt\n",
    "import seaborn as sns\n",
    "import plotly.express as px\n",
    "import plotly.graph_objects as go\n",
    "from plotly.subplots import make_subplots\n",
    "\n",
    "# Estatística\n",
    "import scipy\n",
    "from scipy.stats import normaltest\n",
    "from scipy.stats import chi2_contingency\n",
    "\n",
    "# Ignore Warning\n",
    "import sys\n",
    "import warnings\n",
    "if not sys.warnoptions:\n",
    "    warnings.simplefilter(\"ignore\")\n",
    "    \n",
    "# Estrátegia para valores ausentes\n",
    "import math\n",
    "import sys, os\n",
    "sys.path.append(os.path.abspath(os.path.join('modulos')))\n",
    "from estrategia1 import *"
   ]
  },
  {
   "cell_type": "markdown",
   "id": "23cfebd5",
   "metadata": {},
   "source": [
    "## Carregando os Dados"
   ]
  },
  {
   "cell_type": "code",
   "execution_count": 4,
   "id": "37c84977",
   "metadata": {},
   "outputs": [],
   "source": [
    "df = pd.read_csv('dataset/aug_train.csv')"
   ]
  },
  {
   "cell_type": "code",
   "execution_count": 5,
   "id": "ead115b1",
   "metadata": {},
   "outputs": [
    {
     "data": {
      "text/plain": [
       "(19158, 14)"
      ]
     },
     "execution_count": 5,
     "metadata": {},
     "output_type": "execute_result"
    }
   ],
   "source": [
    "df.shape"
   ]
  },
  {
   "cell_type": "code",
   "execution_count": 6,
   "id": "fbcc01b8",
   "metadata": {},
   "outputs": [
    {
     "data": {
      "text/plain": [
       "Index(['enrollee_id', 'city', 'city_development_index', 'gender',\n",
       "       'relevent_experience', 'enrolled_university', 'education_level',\n",
       "       'major_discipline', 'experience', 'company_size', 'company_type',\n",
       "       'last_new_job', 'training_hours', 'target'],\n",
       "      dtype='object')"
      ]
     },
     "execution_count": 6,
     "metadata": {},
     "output_type": "execute_result"
    }
   ],
   "source": [
    "df.columns"
   ]
  },
  {
   "cell_type": "code",
   "execution_count": 7,
   "id": "2abd0e01",
   "metadata": {},
   "outputs": [
    {
     "data": {
      "text/html": [
       "<div>\n",
       "<style scoped>\n",
       "    .dataframe tbody tr th:only-of-type {\n",
       "        vertical-align: middle;\n",
       "    }\n",
       "\n",
       "    .dataframe tbody tr th {\n",
       "        vertical-align: top;\n",
       "    }\n",
       "\n",
       "    .dataframe thead th {\n",
       "        text-align: right;\n",
       "    }\n",
       "</style>\n",
       "<table border=\"1\" class=\"dataframe\">\n",
       "  <thead>\n",
       "    <tr style=\"text-align: right;\">\n",
       "      <th></th>\n",
       "      <th>enrollee_id</th>\n",
       "      <th>city</th>\n",
       "      <th>city_development_index</th>\n",
       "      <th>gender</th>\n",
       "      <th>relevent_experience</th>\n",
       "      <th>enrolled_university</th>\n",
       "      <th>education_level</th>\n",
       "      <th>major_discipline</th>\n",
       "      <th>experience</th>\n",
       "      <th>company_size</th>\n",
       "      <th>company_type</th>\n",
       "      <th>last_new_job</th>\n",
       "      <th>training_hours</th>\n",
       "      <th>target</th>\n",
       "    </tr>\n",
       "  </thead>\n",
       "  <tbody>\n",
       "    <tr>\n",
       "      <th>0</th>\n",
       "      <td>8949</td>\n",
       "      <td>city_103</td>\n",
       "      <td>0.920</td>\n",
       "      <td>Male</td>\n",
       "      <td>Has relevent experience</td>\n",
       "      <td>no_enrollment</td>\n",
       "      <td>Graduate</td>\n",
       "      <td>STEM</td>\n",
       "      <td>&gt;20</td>\n",
       "      <td>NaN</td>\n",
       "      <td>NaN</td>\n",
       "      <td>1</td>\n",
       "      <td>36</td>\n",
       "      <td>1.0</td>\n",
       "    </tr>\n",
       "    <tr>\n",
       "      <th>1</th>\n",
       "      <td>29725</td>\n",
       "      <td>city_40</td>\n",
       "      <td>0.776</td>\n",
       "      <td>Male</td>\n",
       "      <td>No relevent experience</td>\n",
       "      <td>no_enrollment</td>\n",
       "      <td>Graduate</td>\n",
       "      <td>STEM</td>\n",
       "      <td>15</td>\n",
       "      <td>50-99</td>\n",
       "      <td>Pvt Ltd</td>\n",
       "      <td>&gt;4</td>\n",
       "      <td>47</td>\n",
       "      <td>0.0</td>\n",
       "    </tr>\n",
       "    <tr>\n",
       "      <th>2</th>\n",
       "      <td>11561</td>\n",
       "      <td>city_21</td>\n",
       "      <td>0.624</td>\n",
       "      <td>NaN</td>\n",
       "      <td>No relevent experience</td>\n",
       "      <td>Full time course</td>\n",
       "      <td>Graduate</td>\n",
       "      <td>STEM</td>\n",
       "      <td>5</td>\n",
       "      <td>NaN</td>\n",
       "      <td>NaN</td>\n",
       "      <td>never</td>\n",
       "      <td>83</td>\n",
       "      <td>0.0</td>\n",
       "    </tr>\n",
       "    <tr>\n",
       "      <th>3</th>\n",
       "      <td>33241</td>\n",
       "      <td>city_115</td>\n",
       "      <td>0.789</td>\n",
       "      <td>NaN</td>\n",
       "      <td>No relevent experience</td>\n",
       "      <td>NaN</td>\n",
       "      <td>Graduate</td>\n",
       "      <td>Business Degree</td>\n",
       "      <td>&lt;1</td>\n",
       "      <td>NaN</td>\n",
       "      <td>Pvt Ltd</td>\n",
       "      <td>never</td>\n",
       "      <td>52</td>\n",
       "      <td>1.0</td>\n",
       "    </tr>\n",
       "    <tr>\n",
       "      <th>4</th>\n",
       "      <td>666</td>\n",
       "      <td>city_162</td>\n",
       "      <td>0.767</td>\n",
       "      <td>Male</td>\n",
       "      <td>Has relevent experience</td>\n",
       "      <td>no_enrollment</td>\n",
       "      <td>Masters</td>\n",
       "      <td>STEM</td>\n",
       "      <td>&gt;20</td>\n",
       "      <td>50-99</td>\n",
       "      <td>Funded Startup</td>\n",
       "      <td>4</td>\n",
       "      <td>8</td>\n",
       "      <td>0.0</td>\n",
       "    </tr>\n",
       "  </tbody>\n",
       "</table>\n",
       "</div>"
      ],
      "text/plain": [
       "   enrollee_id      city  city_development_index gender  \\\n",
       "0         8949  city_103                   0.920   Male   \n",
       "1        29725   city_40                   0.776   Male   \n",
       "2        11561   city_21                   0.624    NaN   \n",
       "3        33241  city_115                   0.789    NaN   \n",
       "4          666  city_162                   0.767   Male   \n",
       "\n",
       "       relevent_experience enrolled_university education_level  \\\n",
       "0  Has relevent experience       no_enrollment        Graduate   \n",
       "1   No relevent experience       no_enrollment        Graduate   \n",
       "2   No relevent experience    Full time course        Graduate   \n",
       "3   No relevent experience                 NaN        Graduate   \n",
       "4  Has relevent experience       no_enrollment         Masters   \n",
       "\n",
       "  major_discipline experience company_size    company_type last_new_job  \\\n",
       "0             STEM        >20          NaN             NaN            1   \n",
       "1             STEM         15        50-99         Pvt Ltd           >4   \n",
       "2             STEM          5          NaN             NaN        never   \n",
       "3  Business Degree         <1          NaN         Pvt Ltd        never   \n",
       "4             STEM        >20        50-99  Funded Startup            4   \n",
       "\n",
       "   training_hours  target  \n",
       "0              36     1.0  \n",
       "1              47     0.0  \n",
       "2              83     0.0  \n",
       "3              52     1.0  \n",
       "4               8     0.0  "
      ]
     },
     "execution_count": 7,
     "metadata": {},
     "output_type": "execute_result"
    }
   ],
   "source": [
    "df.head()"
   ]
  },
  {
   "cell_type": "code",
   "execution_count": 8,
   "id": "ec4deba4",
   "metadata": {},
   "outputs": [
    {
     "name": "stdout",
     "output_type": "stream",
     "text": [
      "<class 'pandas.core.frame.DataFrame'>\n",
      "RangeIndex: 19158 entries, 0 to 19157\n",
      "Data columns (total 14 columns):\n",
      " #   Column                  Non-Null Count  Dtype  \n",
      "---  ------                  --------------  -----  \n",
      " 0   enrollee_id             19158 non-null  int64  \n",
      " 1   city                    19158 non-null  object \n",
      " 2   city_development_index  19158 non-null  float64\n",
      " 3   gender                  14650 non-null  object \n",
      " 4   relevent_experience     19158 non-null  object \n",
      " 5   enrolled_university     18772 non-null  object \n",
      " 6   education_level         18698 non-null  object \n",
      " 7   major_discipline        16345 non-null  object \n",
      " 8   experience              19093 non-null  object \n",
      " 9   company_size            13220 non-null  object \n",
      " 10  company_type            13018 non-null  object \n",
      " 11  last_new_job            18735 non-null  object \n",
      " 12  training_hours          19158 non-null  int64  \n",
      " 13  target                  19158 non-null  float64\n",
      "dtypes: float64(2), int64(2), object(10)\n",
      "memory usage: 2.0+ MB\n"
     ]
    }
   ],
   "source": [
    "# Informações sobre o dataset\n",
    "df.info()"
   ]
  },
  {
   "cell_type": "markdown",
   "id": "b0851e73",
   "metadata": {},
   "source": [
    "## Análise Exploratória de Dados"
   ]
  },
  {
   "cell_type": "code",
   "execution_count": 9,
   "id": "9733100c",
   "metadata": {},
   "outputs": [
    {
     "data": {
      "text/html": [
       "<div>\n",
       "<style scoped>\n",
       "    .dataframe tbody tr th:only-of-type {\n",
       "        vertical-align: middle;\n",
       "    }\n",
       "\n",
       "    .dataframe tbody tr th {\n",
       "        vertical-align: top;\n",
       "    }\n",
       "\n",
       "    .dataframe thead th {\n",
       "        text-align: right;\n",
       "    }\n",
       "</style>\n",
       "<table border=\"1\" class=\"dataframe\">\n",
       "  <thead>\n",
       "    <tr style=\"text-align: right;\">\n",
       "      <th></th>\n",
       "      <th>city</th>\n",
       "      <th>gender</th>\n",
       "      <th>relevent_experience</th>\n",
       "      <th>enrolled_university</th>\n",
       "      <th>education_level</th>\n",
       "      <th>major_discipline</th>\n",
       "      <th>experience</th>\n",
       "      <th>company_size</th>\n",
       "      <th>company_type</th>\n",
       "      <th>last_new_job</th>\n",
       "    </tr>\n",
       "  </thead>\n",
       "  <tbody>\n",
       "    <tr>\n",
       "      <th>count</th>\n",
       "      <td>19158</td>\n",
       "      <td>14650</td>\n",
       "      <td>19158</td>\n",
       "      <td>18772</td>\n",
       "      <td>18698</td>\n",
       "      <td>16345</td>\n",
       "      <td>19093</td>\n",
       "      <td>13220</td>\n",
       "      <td>13018</td>\n",
       "      <td>18735</td>\n",
       "    </tr>\n",
       "    <tr>\n",
       "      <th>unique</th>\n",
       "      <td>123</td>\n",
       "      <td>3</td>\n",
       "      <td>2</td>\n",
       "      <td>3</td>\n",
       "      <td>5</td>\n",
       "      <td>6</td>\n",
       "      <td>22</td>\n",
       "      <td>8</td>\n",
       "      <td>6</td>\n",
       "      <td>6</td>\n",
       "    </tr>\n",
       "    <tr>\n",
       "      <th>top</th>\n",
       "      <td>city_103</td>\n",
       "      <td>Male</td>\n",
       "      <td>Has relevent experience</td>\n",
       "      <td>no_enrollment</td>\n",
       "      <td>Graduate</td>\n",
       "      <td>STEM</td>\n",
       "      <td>&gt;20</td>\n",
       "      <td>50-99</td>\n",
       "      <td>Pvt Ltd</td>\n",
       "      <td>1</td>\n",
       "    </tr>\n",
       "    <tr>\n",
       "      <th>freq</th>\n",
       "      <td>4355</td>\n",
       "      <td>13221</td>\n",
       "      <td>13792</td>\n",
       "      <td>13817</td>\n",
       "      <td>11598</td>\n",
       "      <td>14492</td>\n",
       "      <td>3286</td>\n",
       "      <td>3083</td>\n",
       "      <td>9817</td>\n",
       "      <td>8040</td>\n",
       "    </tr>\n",
       "  </tbody>\n",
       "</table>\n",
       "</div>"
      ],
      "text/plain": [
       "            city gender      relevent_experience enrolled_university  \\\n",
       "count      19158  14650                    19158               18772   \n",
       "unique       123      3                        2                   3   \n",
       "top     city_103   Male  Has relevent experience       no_enrollment   \n",
       "freq        4355  13221                    13792               13817   \n",
       "\n",
       "       education_level major_discipline experience company_size company_type  \\\n",
       "count            18698            16345      19093        13220        13018   \n",
       "unique               5                6         22            8            6   \n",
       "top           Graduate             STEM        >20        50-99      Pvt Ltd   \n",
       "freq             11598            14492       3286         3083         9817   \n",
       "\n",
       "       last_new_job  \n",
       "count         18735  \n",
       "unique            6  \n",
       "top               1  \n",
       "freq           8040  "
      ]
     },
     "execution_count": 9,
     "metadata": {},
     "output_type": "execute_result"
    }
   ],
   "source": [
    "# Descrevendo dados não númericos com o método Describe\n",
    "df.describe(include = object)"
   ]
  },
  {
   "cell_type": "code",
   "execution_count": 10,
   "id": "d1f48f7d",
   "metadata": {},
   "outputs": [
    {
     "data": {
      "text/html": [
       "<div>\n",
       "<style scoped>\n",
       "    .dataframe tbody tr th:only-of-type {\n",
       "        vertical-align: middle;\n",
       "    }\n",
       "\n",
       "    .dataframe tbody tr th {\n",
       "        vertical-align: top;\n",
       "    }\n",
       "\n",
       "    .dataframe thead th {\n",
       "        text-align: right;\n",
       "    }\n",
       "</style>\n",
       "<table border=\"1\" class=\"dataframe\">\n",
       "  <thead>\n",
       "    <tr style=\"text-align: right;\">\n",
       "      <th></th>\n",
       "      <th>city_development_index</th>\n",
       "      <th>training_hours</th>\n",
       "    </tr>\n",
       "  </thead>\n",
       "  <tbody>\n",
       "    <tr>\n",
       "      <th>count</th>\n",
       "      <td>19158.000000</td>\n",
       "      <td>19158.000000</td>\n",
       "    </tr>\n",
       "    <tr>\n",
       "      <th>mean</th>\n",
       "      <td>0.828848</td>\n",
       "      <td>65.366896</td>\n",
       "    </tr>\n",
       "    <tr>\n",
       "      <th>std</th>\n",
       "      <td>0.123362</td>\n",
       "      <td>60.058462</td>\n",
       "    </tr>\n",
       "    <tr>\n",
       "      <th>min</th>\n",
       "      <td>0.448000</td>\n",
       "      <td>1.000000</td>\n",
       "    </tr>\n",
       "    <tr>\n",
       "      <th>25%</th>\n",
       "      <td>0.740000</td>\n",
       "      <td>23.000000</td>\n",
       "    </tr>\n",
       "    <tr>\n",
       "      <th>50%</th>\n",
       "      <td>0.903000</td>\n",
       "      <td>47.000000</td>\n",
       "    </tr>\n",
       "    <tr>\n",
       "      <th>75%</th>\n",
       "      <td>0.920000</td>\n",
       "      <td>88.000000</td>\n",
       "    </tr>\n",
       "    <tr>\n",
       "      <th>max</th>\n",
       "      <td>0.949000</td>\n",
       "      <td>336.000000</td>\n",
       "    </tr>\n",
       "  </tbody>\n",
       "</table>\n",
       "</div>"
      ],
      "text/plain": [
       "       city_development_index  training_hours\n",
       "count            19158.000000    19158.000000\n",
       "mean                 0.828848       65.366896\n",
       "std                  0.123362       60.058462\n",
       "min                  0.448000        1.000000\n",
       "25%                  0.740000       23.000000\n",
       "50%                  0.903000       47.000000\n",
       "75%                  0.920000       88.000000\n",
       "max                  0.949000      336.000000"
      ]
     },
     "execution_count": 10,
     "metadata": {},
     "output_type": "execute_result"
    }
   ],
   "source": [
    "# Descrevendo os dados númericos, com exceção de enrollee_id que é irrelevante o pois é uma Indetificação \n",
    "# e também de target que está como Float64 e respresenta uma categoria.\n",
    "df.describe().drop(columns = ['enrollee_id', 'target'])"
   ]
  },
  {
   "cell_type": "markdown",
   "id": "eeab39d7",
   "metadata": {},
   "source": [
    "Em **city_development_index** (Índice de desenvolvimento de uma cidade) temos os seguintes valores: \n",
    "\n",
    "Média(mean) - 0,828  , Mediana(50%) - 0.903 e Desvio Padrão(std) - 0,123.\n",
    "\n",
    "Em **training_hours**(Horas de treinamento) temos os seguintes valores:\n",
    "\n",
    "Média(Mean): 65,36 horas ,Mediana(50%): 47 horas e Máximo(Max): 333 horas.\n",
    "\n"
   ]
  },
  {
   "cell_type": "markdown",
   "id": "b00ef4d4",
   "metadata": {},
   "source": [
    "Quanto maior o Índice de desenvolvimento de uma cidade, mais bem desenvolvida ela é, isso significa que a Média e Mediana deram valores altos e com baixo valor de disperção da variável no Desvio Padrão, concluimos que a maioria dos candidatos é de cidades bem desenvolvidas.\n",
    "\n",
    "Concluimos também que na média as pessoas levam pouco tempo para concluir o treinamento, mas alguns candidatos estão gastando muito tempo para finalizar o treinamento. "
   ]
  },
  {
   "cell_type": "markdown",
   "id": "3b35db4c",
   "metadata": {},
   "source": [
    "### Vizualizando as Variáveis Categóricas"
   ]
  },
  {
   "cell_type": "code",
   "execution_count": 11,
   "id": "ad6f8eae",
   "metadata": {},
   "outputs": [
    {
     "name": "stdout",
     "output_type": "stream",
     "text": [
      "<class 'pandas.core.frame.DataFrame'>\n",
      "RangeIndex: 19158 entries, 0 to 19157\n",
      "Data columns (total 14 columns):\n",
      " #   Column                  Non-Null Count  Dtype  \n",
      "---  ------                  --------------  -----  \n",
      " 0   enrollee_id             19158 non-null  int64  \n",
      " 1   city                    19158 non-null  object \n",
      " 2   city_development_index  19158 non-null  float64\n",
      " 3   gender                  14650 non-null  object \n",
      " 4   relevent_experience     19158 non-null  object \n",
      " 5   enrolled_university     18772 non-null  object \n",
      " 6   education_level         18698 non-null  object \n",
      " 7   major_discipline        16345 non-null  object \n",
      " 8   experience              19093 non-null  object \n",
      " 9   company_size            13220 non-null  object \n",
      " 10  company_type            13018 non-null  object \n",
      " 11  last_new_job            18735 non-null  object \n",
      " 12  training_hours          19158 non-null  int64  \n",
      " 13  target                  19158 non-null  float64\n",
      "dtypes: float64(2), int64(2), object(10)\n",
      "memory usage: 2.0+ MB\n"
     ]
    },
    {
     "data": {
      "text/plain": [
       "['gender',\n",
       " 'relevent_experience',\n",
       " 'enrolled_university',\n",
       " 'education_level',\n",
       " 'major_discipline',\n",
       " 'experience',\n",
       " 'company_size',\n",
       " 'company_type',\n",
       " 'last_new_job']"
      ]
     },
     "execution_count": 11,
     "metadata": {},
     "output_type": "execute_result"
    }
   ],
   "source": [
    "# Convertendo todas colunas Categóricas para uma lista, No caso até o do 3 até o 12 porque o 12 é exclusivo.\n",
    "df.info()\n",
    "list(df.columns.values)[3:12]"
   ]
  },
  {
   "cell_type": "code",
   "execution_count": 12,
   "id": "3b7e807b",
   "metadata": {},
   "outputs": [
    {
     "data": {
      "image/png": "[encoded data removed]",
      "text/plain": [
       "<Figure size 1296x2160 with 9 Axes>"
      ]
     },
     "metadata": {
      "needs_background": "light"
     },
     "output_type": "display_data"
    }
   ],
   "source": [
    "# PLOT\n",
    "\n",
    "# Primeiro, estabelecendo o tamanho das figuras nos gráficos\n",
    "plt.figure(figsize = (18,30))\n",
    "\n",
    "# Lista de colunas\n",
    "column_list = list(df.columns.values)[3:12]\n",
    "\n",
    "# Criando um contador\n",
    "C = 0\n",
    "\n",
    "# Criando Loop e com subplot crio a área para cada um dos gráficos, e com Countplot insiro os valores de cada variável\n",
    "for i in column_list:\n",
    "    C += 1\n",
    "    plt.subplot(5 ,2 , C)\n",
    "    ax = sns.countplot(data = df.fillna('Nulo'), x = i)\n",
    "    plt.title(i, fontsize = 15 )\n",
    "    "
   ]
  },
  {
   "cell_type": "markdown",
   "id": "a10e583c",
   "metadata": {},
   "source": [
    "As variáveis a cima estão coerentes com o que o mercado de Big Data e Ciência de dados propõem como por exemplo, em **gender** a maioria dos candidatos ser do sexo masculino e também em **graduate** a maioria dos canditados ser graduado."
   ]
  },
  {
   "cell_type": "markdown",
   "id": "90eb0746",
   "metadata": {},
   "source": [
    "### Verificando a Distribuição das Variáveis Numéricas"
   ]
  },
  {
   "cell_type": "code",
   "execution_count": 13,
   "id": "40786079",
   "metadata": {},
   "outputs": [
    {
     "data": {
      "text/html": [
       "<div>\n",
       "<style scoped>\n",
       "    .dataframe tbody tr th:only-of-type {\n",
       "        vertical-align: middle;\n",
       "    }\n",
       "\n",
       "    .dataframe tbody tr th {\n",
       "        vertical-align: top;\n",
       "    }\n",
       "\n",
       "    .dataframe thead th {\n",
       "        text-align: right;\n",
       "    }\n",
       "</style>\n",
       "<table border=\"1\" class=\"dataframe\">\n",
       "  <thead>\n",
       "    <tr style=\"text-align: right;\">\n",
       "      <th></th>\n",
       "      <th>city_development_index</th>\n",
       "      <th>training_hours</th>\n",
       "    </tr>\n",
       "  </thead>\n",
       "  <tbody>\n",
       "    <tr>\n",
       "      <th>count</th>\n",
       "      <td>19158.000000</td>\n",
       "      <td>19158.000000</td>\n",
       "    </tr>\n",
       "    <tr>\n",
       "      <th>mean</th>\n",
       "      <td>0.828848</td>\n",
       "      <td>65.366896</td>\n",
       "    </tr>\n",
       "    <tr>\n",
       "      <th>std</th>\n",
       "      <td>0.123362</td>\n",
       "      <td>60.058462</td>\n",
       "    </tr>\n",
       "    <tr>\n",
       "      <th>min</th>\n",
       "      <td>0.448000</td>\n",
       "      <td>1.000000</td>\n",
       "    </tr>\n",
       "    <tr>\n",
       "      <th>25%</th>\n",
       "      <td>0.740000</td>\n",
       "      <td>23.000000</td>\n",
       "    </tr>\n",
       "    <tr>\n",
       "      <th>50%</th>\n",
       "      <td>0.903000</td>\n",
       "      <td>47.000000</td>\n",
       "    </tr>\n",
       "    <tr>\n",
       "      <th>75%</th>\n",
       "      <td>0.920000</td>\n",
       "      <td>88.000000</td>\n",
       "    </tr>\n",
       "    <tr>\n",
       "      <th>max</th>\n",
       "      <td>0.949000</td>\n",
       "      <td>336.000000</td>\n",
       "    </tr>\n",
       "  </tbody>\n",
       "</table>\n",
       "</div>"
      ],
      "text/plain": [
       "       city_development_index  training_hours\n",
       "count            19158.000000    19158.000000\n",
       "mean                 0.828848       65.366896\n",
       "std                  0.123362       60.058462\n",
       "min                  0.448000        1.000000\n",
       "25%                  0.740000       23.000000\n",
       "50%                  0.903000       47.000000\n",
       "75%                  0.920000       88.000000\n",
       "max                  0.949000      336.000000"
      ]
     },
     "execution_count": 13,
     "metadata": {},
     "output_type": "execute_result"
    }
   ],
   "source": [
    "# Descrevendo os dados númericos\n",
    "df.describe().drop(columns = ['enrollee_id', 'target'])"
   ]
  },
  {
   "cell_type": "code",
   "execution_count": 14,
   "id": "0ef063fb",
   "metadata": {},
   "outputs": [
    {
     "data": {
      "text/plain": [
       "<AxesSubplot:xlabel='training_hours'>"
      ]
     },
     "execution_count": 14,
     "metadata": {},
     "output_type": "execute_result"
    },
    {
     "data": {
      "image/png": "[encoded data removed]",
      "text/plain": [
       "<Figure size 1224x864 with 4 Axes>"
      ]
     },
     "metadata": {
      "needs_background": "light"
     },
     "output_type": "display_data"
    }
   ],
   "source": [
    "# Primeiro, estabelecendo o tamanho das figuras nos gráficos\n",
    "plt.figure(figsize = (17,12))\n",
    "\n",
    "# Subplots com Histograma\n",
    "\n",
    "plt.subplot(221)\n",
    "sns.histplot(df['city_development_index'], kde = True, color = \"green\")\n",
    "plt.title('Índice de desenvolvimento das cidades', fontsize = 20)\n",
    "\n",
    "plt.subplot(222)\n",
    "sns.histplot(df['training_hours'], kde = True, color = \"red\")\n",
    "plt.title('Horas de treinamento', fontsize = 20)\n",
    "\n",
    "# Subplots com boxplots\n",
    "plt.subplot(223)\n",
    "sns.boxplot(df['city_development_index'])\n",
    "\n",
    "plt.subplot(224)\n",
    "sns.boxplot(df['training_hours'])"
   ]
  },
  {
   "cell_type": "markdown",
   "id": "59fe078c",
   "metadata": {},
   "source": [
    "De acordo com os gráficos acima, podemos analisar que os dois Histogramas e os dois Boxplots não apresentam uma distribuição normal.\n",
    "\n",
    "E podemos observar com dois gráficos de baixo, o primeiro Boxplot com muitos valores embaixo da mediana e o segundo com mais valores acima da mediana, assim percebemos que o Boxplot de uma variável é o inverso da outra, que nem os Histogramas acima, entendendo assim como o Histograma e o Boxplot se complementam.\n",
    "\n",
    "E os Outliers(Valores extremos) são presentes nos dois gráficos, o Outlier é um valor que foge da distribuição dos dados.\n",
    "\n",
    "Para validar os gráficos, usarei o teste de normalidade nas variáveis númericas."
   ]
  },
  {
   "cell_type": "code",
   "execution_count": 15,
   "id": "cd093efb",
   "metadata": {},
   "outputs": [
    {
     "name": "stdout",
     "output_type": "stream",
     "text": [
      "city_development_index Distribuição Não Normal\n",
      "training_hours Distribuição Não Normal\n"
     ]
    }
   ],
   "source": [
    "# Teste de Normalidade da Distruibuição somente para variáveis númericos\n",
    "\n",
    "# Lista com variáveis númericas\n",
    "v_numericas = ['city_development_index','training_hours'] \n",
    "\n",
    "# Loop para calcular a normalidade\n",
    "for i in v_numericas:\n",
    "    stats, pval = normaltest(df[i])\n",
    "    if pval > 0.05:\n",
    "        print(i, ': Distribuição Normal')\n",
    "    else:\n",
    "        print(i, 'Distribuição Não Normal')"
   ]
  },
  {
   "cell_type": "markdown",
   "id": "43464268",
   "metadata": {},
   "source": [
    "Então após o uso do teste de normalidade, podemos avaliar que as duas variáveis não seguem uma distribuição normal. Para a análise númerica, usarei o método não paramétrico. "
   ]
  },
  {
   "cell_type": "markdown",
   "id": "1c59e1ac",
   "metadata": {},
   "source": [
    "### Correlação dos dados"
   ]
  },
  {
   "cell_type": "markdown",
   "id": "7ad3ac25",
   "metadata": {},
   "source": [
    "Após analisar as variáveis **experince** e **last_new_job** que tanto podem fazer parte das variáveis númericas ou das variáveis categóricas, mas para conseguir ter uma melhor análise geral, transformarei as duas variáveis em númericas.\n",
    "\n",
    "Para analisar a correlação das variáveis númericas e entre variável alvo (target) com as variáveis númericas será utilizado a Correlação de Spearman.\n"
   ]
  },
  {
   "cell_type": "code",
   "execution_count": 16,
   "id": "e0a25e76",
   "metadata": {},
   "outputs": [
    {
     "data": {
      "text/html": [
       "<div>\n",
       "<style scoped>\n",
       "    .dataframe tbody tr th:only-of-type {\n",
       "        vertical-align: middle;\n",
       "    }\n",
       "\n",
       "    .dataframe tbody tr th {\n",
       "        vertical-align: top;\n",
       "    }\n",
       "\n",
       "    .dataframe thead th {\n",
       "        text-align: right;\n",
       "    }\n",
       "</style>\n",
       "<table border=\"1\" class=\"dataframe\">\n",
       "  <thead>\n",
       "    <tr style=\"text-align: right;\">\n",
       "      <th></th>\n",
       "      <th>enrollee_id</th>\n",
       "      <th>city</th>\n",
       "      <th>city_development_index</th>\n",
       "      <th>gender</th>\n",
       "      <th>relevent_experience</th>\n",
       "      <th>enrolled_university</th>\n",
       "      <th>education_level</th>\n",
       "      <th>major_discipline</th>\n",
       "      <th>experience</th>\n",
       "      <th>company_size</th>\n",
       "      <th>company_type</th>\n",
       "      <th>last_new_job</th>\n",
       "      <th>training_hours</th>\n",
       "      <th>target</th>\n",
       "    </tr>\n",
       "  </thead>\n",
       "  <tbody>\n",
       "    <tr>\n",
       "      <th>0</th>\n",
       "      <td>8949</td>\n",
       "      <td>city_103</td>\n",
       "      <td>0.920</td>\n",
       "      <td>Male</td>\n",
       "      <td>Has relevent experience</td>\n",
       "      <td>no_enrollment</td>\n",
       "      <td>Graduate</td>\n",
       "      <td>STEM</td>\n",
       "      <td>&gt;20</td>\n",
       "      <td>NaN</td>\n",
       "      <td>NaN</td>\n",
       "      <td>1</td>\n",
       "      <td>36</td>\n",
       "      <td>1.0</td>\n",
       "    </tr>\n",
       "    <tr>\n",
       "      <th>1</th>\n",
       "      <td>29725</td>\n",
       "      <td>city_40</td>\n",
       "      <td>0.776</td>\n",
       "      <td>Male</td>\n",
       "      <td>No relevent experience</td>\n",
       "      <td>no_enrollment</td>\n",
       "      <td>Graduate</td>\n",
       "      <td>STEM</td>\n",
       "      <td>15</td>\n",
       "      <td>50-99</td>\n",
       "      <td>Pvt Ltd</td>\n",
       "      <td>&gt;4</td>\n",
       "      <td>47</td>\n",
       "      <td>0.0</td>\n",
       "    </tr>\n",
       "    <tr>\n",
       "      <th>2</th>\n",
       "      <td>11561</td>\n",
       "      <td>city_21</td>\n",
       "      <td>0.624</td>\n",
       "      <td>NaN</td>\n",
       "      <td>No relevent experience</td>\n",
       "      <td>Full time course</td>\n",
       "      <td>Graduate</td>\n",
       "      <td>STEM</td>\n",
       "      <td>5</td>\n",
       "      <td>NaN</td>\n",
       "      <td>NaN</td>\n",
       "      <td>never</td>\n",
       "      <td>83</td>\n",
       "      <td>0.0</td>\n",
       "    </tr>\n",
       "    <tr>\n",
       "      <th>3</th>\n",
       "      <td>33241</td>\n",
       "      <td>city_115</td>\n",
       "      <td>0.789</td>\n",
       "      <td>NaN</td>\n",
       "      <td>No relevent experience</td>\n",
       "      <td>NaN</td>\n",
       "      <td>Graduate</td>\n",
       "      <td>Business Degree</td>\n",
       "      <td>&lt;1</td>\n",
       "      <td>NaN</td>\n",
       "      <td>Pvt Ltd</td>\n",
       "      <td>never</td>\n",
       "      <td>52</td>\n",
       "      <td>1.0</td>\n",
       "    </tr>\n",
       "    <tr>\n",
       "      <th>4</th>\n",
       "      <td>666</td>\n",
       "      <td>city_162</td>\n",
       "      <td>0.767</td>\n",
       "      <td>Male</td>\n",
       "      <td>Has relevent experience</td>\n",
       "      <td>no_enrollment</td>\n",
       "      <td>Masters</td>\n",
       "      <td>STEM</td>\n",
       "      <td>&gt;20</td>\n",
       "      <td>50-99</td>\n",
       "      <td>Funded Startup</td>\n",
       "      <td>4</td>\n",
       "      <td>8</td>\n",
       "      <td>0.0</td>\n",
       "    </tr>\n",
       "  </tbody>\n",
       "</table>\n",
       "</div>"
      ],
      "text/plain": [
       "   enrollee_id      city  city_development_index gender  \\\n",
       "0         8949  city_103                   0.920   Male   \n",
       "1        29725   city_40                   0.776   Male   \n",
       "2        11561   city_21                   0.624    NaN   \n",
       "3        33241  city_115                   0.789    NaN   \n",
       "4          666  city_162                   0.767   Male   \n",
       "\n",
       "       relevent_experience enrolled_university education_level  \\\n",
       "0  Has relevent experience       no_enrollment        Graduate   \n",
       "1   No relevent experience       no_enrollment        Graduate   \n",
       "2   No relevent experience    Full time course        Graduate   \n",
       "3   No relevent experience                 NaN        Graduate   \n",
       "4  Has relevent experience       no_enrollment         Masters   \n",
       "\n",
       "  major_discipline experience company_size    company_type last_new_job  \\\n",
       "0             STEM        >20          NaN             NaN            1   \n",
       "1             STEM         15        50-99         Pvt Ltd           >4   \n",
       "2             STEM          5          NaN             NaN        never   \n",
       "3  Business Degree         <1          NaN         Pvt Ltd        never   \n",
       "4             STEM        >20        50-99  Funded Startup            4   \n",
       "\n",
       "   training_hours  target  \n",
       "0              36     1.0  \n",
       "1              47     0.0  \n",
       "2              83     0.0  \n",
       "3              52     1.0  \n",
       "4               8     0.0  "
      ]
     },
     "execution_count": 16,
     "metadata": {},
     "output_type": "execute_result"
    }
   ],
   "source": [
    "df.head()"
   ]
  },
  {
   "cell_type": "code",
   "execution_count": 17,
   "id": "aa3896c8",
   "metadata": {},
   "outputs": [
    {
     "data": {
      "text/plain": [
       "Index(['enrollee_id', 'city', 'city_development_index', 'gender',\n",
       "       'relevent_experience', 'enrolled_university', 'education_level',\n",
       "       'major_discipline', 'experience', 'company_size', 'company_type',\n",
       "       'last_new_job', 'training_hours', 'target'],\n",
       "      dtype='object')"
      ]
     },
     "execution_count": 17,
     "metadata": {},
     "output_type": "execute_result"
    }
   ],
   "source": [
    "df.columns"
   ]
  },
  {
   "cell_type": "code",
   "execution_count": 18,
   "id": "6b0f3173",
   "metadata": {},
   "outputs": [],
   "source": [
    "# Cópia do dataframe original\n",
    "df_numerico = df.copy()"
   ]
  },
  {
   "cell_type": "code",
   "execution_count": 19,
   "id": "3879e61b",
   "metadata": {},
   "outputs": [
    {
     "data": {
      "text/plain": [
       "(>20    3286\n",
       " 5      1430\n",
       " 4      1403\n",
       " 3      1354\n",
       " 6      1216\n",
       " 2      1127\n",
       " 7      1028\n",
       " 10      985\n",
       " 9       980\n",
       " 8       802\n",
       " 15      686\n",
       " 11      664\n",
       " 14      586\n",
       " 1       549\n",
       " <1      522\n",
       " 16      508\n",
       " 12      494\n",
       " 13      399\n",
       " 17      342\n",
       " 19      304\n",
       " 18      280\n",
       " 20      148\n",
       " Name: experience, dtype: int64,)"
      ]
     },
     "execution_count": 19,
     "metadata": {},
     "output_type": "execute_result"
    }
   ],
   "source": [
    "df_numerico[\"experience\"].value_counts(),"
   ]
  },
  {
   "cell_type": "code",
   "execution_count": 20,
   "id": "95381bdd",
   "metadata": {},
   "outputs": [
    {
     "data": {
      "text/plain": [
       "1        8040\n",
       ">4       3290\n",
       "2        2900\n",
       "never    2452\n",
       "4        1029\n",
       "3        1024\n",
       "Name: last_new_job, dtype: int64"
      ]
     },
     "execution_count": 20,
     "metadata": {},
     "output_type": "execute_result"
    }
   ],
   "source": [
    "df_numerico[\"last_new_job\"].value_counts()"
   ]
  },
  {
   "cell_type": "code",
   "execution_count": 21,
   "id": "a8655f17",
   "metadata": {},
   "outputs": [],
   "source": [
    "# Convertendo as variáveis experience e last_new_job para númericas\n",
    "\n",
    "#experience\n",
    "df_numerico[\"experience\"] = np.where(df_numerico[\"experience\"] == \"<1\", 1, df_numerico[\"experience\"])\n",
    "df_numerico[\"experience\"] = np.where(df_numerico[\"experience\"] == \">20\", 21, df_numerico[\"experience\"])\n",
    "df_numerico[\"experience\"] = df_numerico[\"experience\"].astype(float)\n",
    "\n",
    "#last_new_job\n",
    "df_numerico[\"last_new_job\"] = np.where(df_numerico[\"last_new_job\"] == \"never\", 0, df_numerico[\"last_new_job\"])\n",
    "df_numerico[\"last_new_job\"] = np.where(df_numerico[\"last_new_job\"] == \">4\", 5, df_numerico[\"last_new_job\"])\n",
    "df_numerico[\"last_new_job\"] = df_numerico[\"last_new_job\"].astype(float)\n"
   ]
  },
  {
   "cell_type": "code",
   "execution_count": 22,
   "id": "21906a21",
   "metadata": {},
   "outputs": [
    {
     "data": {
      "text/plain": [
       "21.0    3286\n",
       "5.0     1430\n",
       "4.0     1403\n",
       "3.0     1354\n",
       "6.0     1216\n",
       "2.0     1127\n",
       "1.0     1071\n",
       "7.0     1028\n",
       "10.0     985\n",
       "9.0      980\n",
       "8.0      802\n",
       "15.0     686\n",
       "11.0     664\n",
       "14.0     586\n",
       "16.0     508\n",
       "12.0     494\n",
       "13.0     399\n",
       "17.0     342\n",
       "19.0     304\n",
       "18.0     280\n",
       "20.0     148\n",
       "Name: experience, dtype: int64"
      ]
     },
     "execution_count": 22,
     "metadata": {},
     "output_type": "execute_result"
    }
   ],
   "source": [
    "df_numerico[\"experience\"].value_counts()"
   ]
  },
  {
   "cell_type": "code",
   "execution_count": 23,
   "id": "e6299036",
   "metadata": {},
   "outputs": [
    {
     "data": {
      "text/plain": [
       "1.0    8040\n",
       "5.0    3290\n",
       "2.0    2900\n",
       "0.0    2452\n",
       "4.0    1029\n",
       "3.0    1024\n",
       "Name: last_new_job, dtype: int64"
      ]
     },
     "execution_count": 23,
     "metadata": {},
     "output_type": "execute_result"
    }
   ],
   "source": [
    "df_numerico[\"last_new_job\"].value_counts()"
   ]
  },
  {
   "cell_type": "code",
   "execution_count": 24,
   "id": "f6192d5a",
   "metadata": {},
   "outputs": [
    {
     "name": "stdout",
     "output_type": "stream",
     "text": [
      "<class 'pandas.core.frame.DataFrame'>\n",
      "RangeIndex: 19158 entries, 0 to 19157\n",
      "Data columns (total 14 columns):\n",
      " #   Column                  Non-Null Count  Dtype  \n",
      "---  ------                  --------------  -----  \n",
      " 0   enrollee_id             19158 non-null  int64  \n",
      " 1   city                    19158 non-null  object \n",
      " 2   city_development_index  19158 non-null  float64\n",
      " 3   gender                  14650 non-null  object \n",
      " 4   relevent_experience     19158 non-null  object \n",
      " 5   enrolled_university     18772 non-null  object \n",
      " 6   education_level         18698 non-null  object \n",
      " 7   major_discipline        16345 non-null  object \n",
      " 8   experience              19093 non-null  float64\n",
      " 9   company_size            13220 non-null  object \n",
      " 10  company_type            13018 non-null  object \n",
      " 11  last_new_job            18735 non-null  float64\n",
      " 12  training_hours          19158 non-null  int64  \n",
      " 13  target                  19158 non-null  float64\n",
      "dtypes: float64(4), int64(2), object(8)\n",
      "memory usage: 2.0+ MB\n"
     ]
    }
   ],
   "source": [
    "df_numerico.info()"
   ]
  },
  {
   "cell_type": "code",
   "execution_count": 25,
   "id": "accd9945",
   "metadata": {
    "scrolled": true
   },
   "outputs": [
    {
     "data": {
      "text/html": [
       "<div>\n",
       "<style scoped>\n",
       "    .dataframe tbody tr th:only-of-type {\n",
       "        vertical-align: middle;\n",
       "    }\n",
       "\n",
       "    .dataframe tbody tr th {\n",
       "        vertical-align: top;\n",
       "    }\n",
       "\n",
       "    .dataframe thead th {\n",
       "        text-align: right;\n",
       "    }\n",
       "</style>\n",
       "<table border=\"1\" class=\"dataframe\">\n",
       "  <thead>\n",
       "    <tr style=\"text-align: right;\">\n",
       "      <th></th>\n",
       "      <th>city_development_index</th>\n",
       "      <th>experience</th>\n",
       "      <th>last_new_job</th>\n",
       "      <th>training_hours</th>\n",
       "      <th>target</th>\n",
       "    </tr>\n",
       "  </thead>\n",
       "  <tbody>\n",
       "    <tr>\n",
       "      <th>city_development_index</th>\n",
       "      <td>1.000000</td>\n",
       "      <td>0.300997</td>\n",
       "      <td>0.182698</td>\n",
       "      <td>0.007491</td>\n",
       "      <td>-0.279165</td>\n",
       "    </tr>\n",
       "    <tr>\n",
       "      <th>experience</th>\n",
       "      <td>0.300997</td>\n",
       "      <td>1.000000</td>\n",
       "      <td>0.473284</td>\n",
       "      <td>0.003569</td>\n",
       "      <td>-0.183721</td>\n",
       "    </tr>\n",
       "    <tr>\n",
       "      <th>last_new_job</th>\n",
       "      <td>0.182698</td>\n",
       "      <td>0.473284</td>\n",
       "      <td>1.000000</td>\n",
       "      <td>0.002959</td>\n",
       "      <td>-0.082045</td>\n",
       "    </tr>\n",
       "    <tr>\n",
       "      <th>training_hours</th>\n",
       "      <td>0.007491</td>\n",
       "      <td>0.003569</td>\n",
       "      <td>0.002959</td>\n",
       "      <td>1.000000</td>\n",
       "      <td>-0.014126</td>\n",
       "    </tr>\n",
       "    <tr>\n",
       "      <th>target</th>\n",
       "      <td>-0.279165</td>\n",
       "      <td>-0.183721</td>\n",
       "      <td>-0.082045</td>\n",
       "      <td>-0.014126</td>\n",
       "      <td>1.000000</td>\n",
       "    </tr>\n",
       "  </tbody>\n",
       "</table>\n",
       "</div>"
      ],
      "text/plain": [
       "                        city_development_index  experience  last_new_job  \\\n",
       "city_development_index                1.000000    0.300997      0.182698   \n",
       "experience                            0.300997    1.000000      0.473284   \n",
       "last_new_job                          0.182698    0.473284      1.000000   \n",
       "training_hours                        0.007491    0.003569      0.002959   \n",
       "target                               -0.279165   -0.183721     -0.082045   \n",
       "\n",
       "                        training_hours    target  \n",
       "city_development_index        0.007491 -0.279165  \n",
       "experience                    0.003569 -0.183721  \n",
       "last_new_job                  0.002959 -0.082045  \n",
       "training_hours                1.000000 -0.014126  \n",
       "target                       -0.014126  1.000000  "
      ]
     },
     "execution_count": 25,
     "metadata": {},
     "output_type": "execute_result"
    }
   ],
   "source": [
    "# Primeiro modo de analisar a correlação de spearman\n",
    "df_numerico.drop(\"enrollee_id\", axis = 1).corr(\"spearman\")"
   ]
  },
  {
   "cell_type": "code",
   "execution_count": 26,
   "id": "47174a17",
   "metadata": {},
   "outputs": [
    {
     "data": {
      "text/plain": [
       "<AxesSubplot:>"
      ]
     },
     "execution_count": 26,
     "metadata": {},
     "output_type": "execute_result"
    },
    {
     "data": {
      "image/png": "[encoded data removed]",
      "text/plain": [
       "<Figure size 504x504 with 2 Axes>"
      ]
     },
     "metadata": {
      "needs_background": "light"
     },
     "output_type": "display_data"
    }
   ],
   "source": [
    "# Analisando as correlações com Mapa de Calor (Heatmap) e excluindo enrollee_id que é irrelevante o pois é uma Indetificação\n",
    "plt.figure(figsize = (7,7))\n",
    "sns.heatmap(df_numerico.drop(\"enrollee_id\", axis = 1).corr(\"spearman\"),annot=True)"
   ]
  },
  {
   "cell_type": "markdown",
   "id": "9f8d4570",
   "metadata": {},
   "source": [
    "Pela correlação de spearman, last_new_job e experience têm correlação média (0,473), enquanto outros têm correlação fraca.\n",
    "\n",
    "As variáveis last_new_job e training_hours tem correlação próxima de zero com a variável alvo e poderiam ser descartadas.\n",
    "\n"
   ]
  },
  {
   "cell_type": "code",
   "execution_count": 27,
   "id": "b43debdc",
   "metadata": {},
   "outputs": [
    {
     "name": "stdout",
     "output_type": "stream",
     "text": [
      "<class 'pandas.core.frame.DataFrame'>\n",
      "RangeIndex: 19158 entries, 0 to 19157\n",
      "Data columns (total 14 columns):\n",
      " #   Column                  Non-Null Count  Dtype  \n",
      "---  ------                  --------------  -----  \n",
      " 0   enrollee_id             19158 non-null  int64  \n",
      " 1   city                    19158 non-null  object \n",
      " 2   city_development_index  19158 non-null  float64\n",
      " 3   gender                  14650 non-null  object \n",
      " 4   relevent_experience     19158 non-null  object \n",
      " 5   enrolled_university     18772 non-null  object \n",
      " 6   education_level         18698 non-null  object \n",
      " 7   major_discipline        16345 non-null  object \n",
      " 8   experience              19093 non-null  object \n",
      " 9   company_size            13220 non-null  object \n",
      " 10  company_type            13018 non-null  object \n",
      " 11  last_new_job            18735 non-null  object \n",
      " 12  training_hours          19158 non-null  int64  \n",
      " 13  target                  19158 non-null  float64\n",
      "dtypes: float64(2), int64(2), object(10)\n",
      "memory usage: 2.0+ MB\n"
     ]
    }
   ],
   "source": [
    "df_categoria= df.copy()\n",
    "df.info()"
   ]
  },
  {
   "cell_type": "code",
   "execution_count": 28,
   "id": "0c6ea071",
   "metadata": {},
   "outputs": [
    {
     "data": {
      "text/html": [
       "<div>\n",
       "<style scoped>\n",
       "    .dataframe tbody tr th:only-of-type {\n",
       "        vertical-align: middle;\n",
       "    }\n",
       "\n",
       "    .dataframe tbody tr th {\n",
       "        vertical-align: top;\n",
       "    }\n",
       "\n",
       "    .dataframe thead th {\n",
       "        text-align: right;\n",
       "    }\n",
       "</style>\n",
       "<table border=\"1\" class=\"dataframe\">\n",
       "  <thead>\n",
       "    <tr style=\"text-align: right;\">\n",
       "      <th></th>\n",
       "      <th>gender</th>\n",
       "      <th>relevent_experience</th>\n",
       "      <th>enrolled_university</th>\n",
       "      <th>education_level</th>\n",
       "      <th>company_type</th>\n",
       "    </tr>\n",
       "  </thead>\n",
       "  <tbody>\n",
       "    <tr>\n",
       "      <th>0</th>\n",
       "      <td>Male</td>\n",
       "      <td>Has relevent experience</td>\n",
       "      <td>no_enrollment</td>\n",
       "      <td>Graduate</td>\n",
       "      <td>NaN</td>\n",
       "    </tr>\n",
       "    <tr>\n",
       "      <th>1</th>\n",
       "      <td>Male</td>\n",
       "      <td>No relevent experience</td>\n",
       "      <td>no_enrollment</td>\n",
       "      <td>Graduate</td>\n",
       "      <td>Pvt Ltd</td>\n",
       "    </tr>\n",
       "    <tr>\n",
       "      <th>2</th>\n",
       "      <td>NaN</td>\n",
       "      <td>No relevent experience</td>\n",
       "      <td>Full time course</td>\n",
       "      <td>Graduate</td>\n",
       "      <td>NaN</td>\n",
       "    </tr>\n",
       "    <tr>\n",
       "      <th>3</th>\n",
       "      <td>NaN</td>\n",
       "      <td>No relevent experience</td>\n",
       "      <td>NaN</td>\n",
       "      <td>Graduate</td>\n",
       "      <td>Pvt Ltd</td>\n",
       "    </tr>\n",
       "    <tr>\n",
       "      <th>4</th>\n",
       "      <td>Male</td>\n",
       "      <td>Has relevent experience</td>\n",
       "      <td>no_enrollment</td>\n",
       "      <td>Masters</td>\n",
       "      <td>Funded Startup</td>\n",
       "    </tr>\n",
       "    <tr>\n",
       "      <th>...</th>\n",
       "      <td>...</td>\n",
       "      <td>...</td>\n",
       "      <td>...</td>\n",
       "      <td>...</td>\n",
       "      <td>...</td>\n",
       "    </tr>\n",
       "    <tr>\n",
       "      <th>19153</th>\n",
       "      <td>Male</td>\n",
       "      <td>No relevent experience</td>\n",
       "      <td>no_enrollment</td>\n",
       "      <td>Graduate</td>\n",
       "      <td>NaN</td>\n",
       "    </tr>\n",
       "    <tr>\n",
       "      <th>19154</th>\n",
       "      <td>Male</td>\n",
       "      <td>Has relevent experience</td>\n",
       "      <td>no_enrollment</td>\n",
       "      <td>Graduate</td>\n",
       "      <td>NaN</td>\n",
       "    </tr>\n",
       "    <tr>\n",
       "      <th>19155</th>\n",
       "      <td>Male</td>\n",
       "      <td>Has relevent experience</td>\n",
       "      <td>no_enrollment</td>\n",
       "      <td>Graduate</td>\n",
       "      <td>Pvt Ltd</td>\n",
       "    </tr>\n",
       "    <tr>\n",
       "      <th>19156</th>\n",
       "      <td>Male</td>\n",
       "      <td>Has relevent experience</td>\n",
       "      <td>no_enrollment</td>\n",
       "      <td>High School</td>\n",
       "      <td>Pvt Ltd</td>\n",
       "    </tr>\n",
       "    <tr>\n",
       "      <th>19157</th>\n",
       "      <td>NaN</td>\n",
       "      <td>No relevent experience</td>\n",
       "      <td>no_enrollment</td>\n",
       "      <td>Primary School</td>\n",
       "      <td>NaN</td>\n",
       "    </tr>\n",
       "  </tbody>\n",
       "</table>\n",
       "<p>19158 rows × 5 columns</p>\n",
       "</div>"
      ],
      "text/plain": [
       "      gender      relevent_experience enrolled_university education_level  \\\n",
       "0       Male  Has relevent experience       no_enrollment        Graduate   \n",
       "1       Male   No relevent experience       no_enrollment        Graduate   \n",
       "2        NaN   No relevent experience    Full time course        Graduate   \n",
       "3        NaN   No relevent experience                 NaN        Graduate   \n",
       "4       Male  Has relevent experience       no_enrollment         Masters   \n",
       "...      ...                      ...                 ...             ...   \n",
       "19153   Male   No relevent experience       no_enrollment        Graduate   \n",
       "19154   Male  Has relevent experience       no_enrollment        Graduate   \n",
       "19155   Male  Has relevent experience       no_enrollment        Graduate   \n",
       "19156   Male  Has relevent experience       no_enrollment     High School   \n",
       "19157    NaN   No relevent experience       no_enrollment  Primary School   \n",
       "\n",
       "         company_type  \n",
       "0                 NaN  \n",
       "1             Pvt Ltd  \n",
       "2                 NaN  \n",
       "3             Pvt Ltd  \n",
       "4      Funded Startup  \n",
       "...               ...  \n",
       "19153             NaN  \n",
       "19154             NaN  \n",
       "19155         Pvt Ltd  \n",
       "19156         Pvt Ltd  \n",
       "19157             NaN  \n",
       "\n",
       "[19158 rows x 5 columns]"
      ]
     },
     "execution_count": 28,
     "metadata": {},
     "output_type": "execute_result"
    }
   ],
   "source": [
    "df_categoria.drop(columns=['target',\n",
    "                            'enrollee_id',\n",
    "                            'city',\n",
    "                            'city_development_index',\n",
    "                           'training_hours',\n",
    "                          'major_discipline',\n",
    "                            'experience',\n",
    "                            'last_new_job',\n",
    "                            'company_size'])"
   ]
  },
  {
   "cell_type": "markdown",
   "id": "f6164f03",
   "metadata": {},
   "source": [
    "## Correlação com variáveis categóricas"
   ]
  },
  {
   "cell_type": "markdown",
   "id": "be86194d",
   "metadata": {},
   "source": [
    "O teste de correlação de Cramer's V é uma medida de associação entre variáveis categóricas que varia de 0 a 1, onde 0 indica nenhuma associação e 1 indica uma associação perfeita. "
   ]
  },
  {
   "cell_type": "code",
   "execution_count": 29,
   "id": "c73bef22",
   "metadata": {},
   "outputs": [],
   "source": [
    "# Definindo função para correlação de Cramer's V\n",
    "\n",
    "def cramers_v(contingency_table):\n",
    "    chi2, _, _, _ = chi2_contingency(contingency_table)\n",
    "    n = contingency_table.sum().sum()\n",
    "    phi2 = chi2 / n\n",
    "    r, k = contingency_table.shape\n",
    "    phi2corr = max(0, phi2 - ((k - 1) * (r - 1)) / (n - 1))\n",
    "    rcorr = r - ((r - 1) ** 2) / (n - 1)\n",
    "    kcorr = k - ((k - 1) ** 2) / (n - 1)\n",
    "    return np.sqrt(phi2corr / min((kcorr - 1), (rcorr - 1)))"
   ]
  },
  {
   "cell_type": "code",
   "execution_count": 30,
   "id": "26d1304e",
   "metadata": {},
   "outputs": [
    {
     "name": "stdout",
     "output_type": "stream",
     "text": [
      "Coeficiente de Cramer's V: 0.021925293517042838\n"
     ]
    }
   ],
   "source": [
    "# Crie uma tabela de contingência com as duas variáveis\n",
    "contingency_table = pd.crosstab(df_categoria['gender'], df['target'])\n",
    "\n",
    "# Calculando o coeficiente de Cramer's V\n",
    "cramers_v_value = cramers_v(contingency_table)\n",
    "\n",
    "print('Coeficiente de Cramer\\'s V:', cramers_v_value)"
   ]
  },
  {
   "cell_type": "code",
   "execution_count": 31,
   "id": "d96da5e8",
   "metadata": {},
   "outputs": [
    {
     "name": "stdout",
     "output_type": "stream",
     "text": [
      "Coeficiente de Cramer's V: 0.15537647662682152\n"
     ]
    }
   ],
   "source": [
    "# Crie uma tabela de contingência com as duas variáveis\n",
    "contingency_table = pd.crosstab(df_categoria['enrolled_university'], df['target'])\n",
    "\n",
    "# Calcule o coeficiente de Cramer's V\n",
    "cramers_v_value = cramers_v(contingency_table)\n",
    "\n",
    "# Exiba o resultado\n",
    "print('Coeficiente de Cramer\\'s V:', cramers_v_value)"
   ]
  },
  {
   "cell_type": "code",
   "execution_count": 32,
   "id": "06a67211",
   "metadata": {},
   "outputs": [
    {
     "name": "stdout",
     "output_type": "stream",
     "text": [
      "Coeficiente de Cramer's V: 0.12809584889436332\n"
     ]
    }
   ],
   "source": [
    "# Crie uma tabela de contingência com as duas variáveis\n",
    "contingency_table = pd.crosstab(df_categoria['relevent_experience'], df['target'])\n",
    "\n",
    "# Calcule o coeficiente de Cramer's V\n",
    "cramers_v_value = cramers_v(contingency_table)\n",
    "\n",
    "# Exiba o resultado\n",
    "print('Coeficiente de Cramer\\'s V:', cramers_v_value)"
   ]
  },
  {
   "cell_type": "code",
   "execution_count": 33,
   "id": "55673747",
   "metadata": {},
   "outputs": [
    {
     "name": "stdout",
     "output_type": "stream",
     "text": [
      "Coeficiente de Cramer's V: 0.09298413232413384\n"
     ]
    }
   ],
   "source": [
    "# Crie uma tabela de contingência com as duas variáveis\n",
    "contingency_table = pd.crosstab(df_categoria['education_level'], df['target'])\n",
    "\n",
    "# Calcule o coeficiente de Cramer's V\n",
    "cramers_v_value = cramers_v(contingency_table)\n",
    "\n",
    "# Exiba o resultado\n",
    "print('Coeficiente de Cramer\\'s V:', cramers_v_value)"
   ]
  },
  {
   "cell_type": "code",
   "execution_count": 34,
   "id": "8736cf43",
   "metadata": {},
   "outputs": [
    {
     "name": "stdout",
     "output_type": "stream",
     "text": [
      "Coeficiente de Cramer's V: 0.04803513630782016\n"
     ]
    }
   ],
   "source": [
    "contingency_table = pd.crosstab(df_categoria['company_type'], df['target'])\n",
    "\n",
    "# Calcule o coeficiente de Cramer's V\n",
    "cramers_v_value = cramers_v(contingency_table)\n",
    "\n",
    "# Exiba o resultado\n",
    "print('Coeficiente de Cramer\\'s V:', cramers_v_value)"
   ]
  },
  {
   "cell_type": "markdown",
   "id": "b0bf3406",
   "metadata": {},
   "source": [
    "* Com base em seu valor de Coeficiente de Cramer's V, `enrolled_university`, `relevent_experience` e `education_level` tem uma associação pequena entre a variável alvo(target), as outras variáveis escolhidas foram descartadas pela baixa associação com a variável alvo(target)."
   ]
  },
  {
   "cell_type": "markdown",
   "id": "808fd385",
   "metadata": {},
   "source": [
    "## Indentificando valores ausentes por coluna"
   ]
  },
  {
   "cell_type": "code",
   "execution_count": 35,
   "id": "f546a18b",
   "metadata": {},
   "outputs": [
    {
     "data": {
      "text/plain": [
       "Text(0.5, 1.0, 'Plot de Valores Ausentes')"
      ]
     },
     "execution_count": 35,
     "metadata": {},
     "output_type": "execute_result"
    },
    {
     "data": {
      "image/png": "[encoded data removed]",
      "text/plain": [
       "<Figure size 1080x360 with 1 Axes>"
      ]
     },
     "metadata": {
      "needs_background": "light"
     },
     "output_type": "display_data"
    }
   ],
   "source": [
    "# Valores ausentes por coluna\n",
    "null_df = df.isna().sum().reset_index()\n",
    "\n",
    "# Figura\n",
    "ax = plt.figure(figsize = (15,5))\n",
    "\n",
    "# Barplot\n",
    "ax = sns.barplot(null_df['index'],null_df[0])\n",
    "plt.xlabel('Atributos', fontsize = 12)\n",
    "plt.ylabel('Contagem de Valores Ausentes', fontsize = 12)\n",
    "plt.xticks(rotation = 45)\n",
    "plt.title(\"Plot de Valores Ausentes\", fontsize = 15)\n"
   ]
  },
  {
   "cell_type": "code",
   "execution_count": 36,
   "id": "ab12421d",
   "metadata": {},
   "outputs": [
    {
     "data": {
      "text/plain": [
       "0"
      ]
     },
     "execution_count": 36,
     "metadata": {},
     "output_type": "execute_result"
    }
   ],
   "source": [
    "# Checando valores duplicados em variável ID\n",
    "df['enrollee_id'].duplicated().sum()"
   ]
  },
  {
   "cell_type": "markdown",
   "id": "7840ad61",
   "metadata": {},
   "source": [
    "### Identificando Dados Desbalanceados"
   ]
  },
  {
   "cell_type": "code",
   "execution_count": 37,
   "id": "ea6c4b8c",
   "metadata": {},
   "outputs": [
    {
     "data": {
      "text/plain": [
       "Text(0.5, 1.0, 'Barplot Target Label')"
      ]
     },
     "execution_count": 37,
     "metadata": {},
     "output_type": "execute_result"
    },
    {
     "data": {
      "image/png": "[encoded data removed]",
      "text/plain": [
       "<Figure size 1224x360 with 1 Axes>"
      ]
     },
     "metadata": {
      "needs_background": "light"
     },
     "output_type": "display_data"
    }
   ],
   "source": [
    "# Figura\n",
    "plt.figure(figsize = (17,(100)/20))\n",
    "\n",
    "\n",
    "plt.subplot(122)\n",
    "ax = sns.countplot(data = df, x = 'target')\n",
    "plt.title(\"Barplot Target Label\", fontsize = 15)"
   ]
  },
  {
   "cell_type": "markdown",
   "id": "be5bbe1e",
   "metadata": {},
   "source": [
    "Os dados estão desbalanceados em relação à variável target."
   ]
  },
  {
   "cell_type": "markdown",
   "id": "0762abfe",
   "metadata": {},
   "source": [
    "### Tratando os Valores Ausentes"
   ]
  },
  {
   "cell_type": "code",
   "execution_count": 38,
   "id": "3fa112d8",
   "metadata": {},
   "outputs": [
    {
     "name": "stdout",
     "output_type": "stream",
     "text": [
      "O dataset tem 7.73 % de valores ausentes.\n"
     ]
    }
   ],
   "source": [
    "# Verifica o percentual de valores ausentes\n",
    "# Função do módulo estratégia 1\n",
    "func_calc_percentual_valores_ausentes(df)"
   ]
  },
  {
   "cell_type": "code",
   "execution_count": 39,
   "id": "d0d430c6",
   "metadata": {},
   "outputs": [
    {
     "name": "stdout",
     "output_type": "stream",
     "text": [
      "O dataset tem 14 colunas.\n",
      "Encontrado: 8 colunas que têm valores ausentes.\n"
     ]
    }
   ],
   "source": [
    "# Cria tabela com valores ausentes\n",
    "df_missing = func_calc_percentual_valores_ausentes_coluna(df)"
   ]
  },
  {
   "cell_type": "code",
   "execution_count": 40,
   "id": "564d8421",
   "metadata": {
    "scrolled": true
   },
   "outputs": [
    {
     "data": {
      "text/html": [
       "<div>\n",
       "<style scoped>\n",
       "    .dataframe tbody tr th:only-of-type {\n",
       "        vertical-align: middle;\n",
       "    }\n",
       "\n",
       "    .dataframe tbody tr th {\n",
       "        vertical-align: top;\n",
       "    }\n",
       "\n",
       "    .dataframe thead th {\n",
       "        text-align: right;\n",
       "    }\n",
       "</style>\n",
       "<table border=\"1\" class=\"dataframe\">\n",
       "  <thead>\n",
       "    <tr style=\"text-align: right;\">\n",
       "      <th></th>\n",
       "      <th>Valores Ausentes</th>\n",
       "      <th>% de Valores Ausentes</th>\n",
       "      <th>Dtype</th>\n",
       "    </tr>\n",
       "  </thead>\n",
       "  <tbody>\n",
       "    <tr>\n",
       "      <th>company_type</th>\n",
       "      <td>6140</td>\n",
       "      <td>32.05</td>\n",
       "      <td>object</td>\n",
       "    </tr>\n",
       "    <tr>\n",
       "      <th>company_size</th>\n",
       "      <td>5938</td>\n",
       "      <td>30.99</td>\n",
       "      <td>object</td>\n",
       "    </tr>\n",
       "    <tr>\n",
       "      <th>gender</th>\n",
       "      <td>4508</td>\n",
       "      <td>23.53</td>\n",
       "      <td>object</td>\n",
       "    </tr>\n",
       "    <tr>\n",
       "      <th>major_discipline</th>\n",
       "      <td>2813</td>\n",
       "      <td>14.68</td>\n",
       "      <td>object</td>\n",
       "    </tr>\n",
       "    <tr>\n",
       "      <th>education_level</th>\n",
       "      <td>460</td>\n",
       "      <td>2.40</td>\n",
       "      <td>object</td>\n",
       "    </tr>\n",
       "    <tr>\n",
       "      <th>last_new_job</th>\n",
       "      <td>423</td>\n",
       "      <td>2.21</td>\n",
       "      <td>object</td>\n",
       "    </tr>\n",
       "    <tr>\n",
       "      <th>enrolled_university</th>\n",
       "      <td>386</td>\n",
       "      <td>2.01</td>\n",
       "      <td>object</td>\n",
       "    </tr>\n",
       "    <tr>\n",
       "      <th>experience</th>\n",
       "      <td>65</td>\n",
       "      <td>0.34</td>\n",
       "      <td>object</td>\n",
       "    </tr>\n",
       "  </tbody>\n",
       "</table>\n",
       "</div>"
      ],
      "text/plain": [
       "                     Valores Ausentes  % de Valores Ausentes   Dtype\n",
       "company_type                     6140                  32.05  object\n",
       "company_size                     5938                  30.99  object\n",
       "gender                           4508                  23.53  object\n",
       "major_discipline                 2813                  14.68  object\n",
       "education_level                   460                   2.40  object\n",
       "last_new_job                      423                   2.21  object\n",
       "enrolled_university               386                   2.01  object\n",
       "experience                         65                   0.34  object"
      ]
     },
     "execution_count": 40,
     "metadata": {},
     "output_type": "execute_result"
    }
   ],
   "source": [
    "df_missing"
   ]
  },
  {
   "cell_type": "markdown",
   "id": "92fe38ad",
   "metadata": {},
   "source": [
    "Removeremos colunas com mais de 30% de valores ausentes."
   ]
  },
  {
   "cell_type": "code",
   "execution_count": 41,
   "id": "80deec49",
   "metadata": {},
   "outputs": [],
   "source": [
    "# Colunas que serão removidas\n",
    "colunas_para_remover = df_missing[df_missing['% de Valores Ausentes'] >= 30.00].index.tolist()"
   ]
  },
  {
   "cell_type": "code",
   "execution_count": 42,
   "id": "d73f9fd5",
   "metadata": {},
   "outputs": [
    {
     "data": {
      "text/plain": [
       "['company_type', 'company_size']"
      ]
     },
     "execution_count": 42,
     "metadata": {},
     "output_type": "execute_result"
    }
   ],
   "source": [
    "colunas_para_remover"
   ]
  },
  {
   "cell_type": "code",
   "execution_count": 43,
   "id": "6b8a6e58",
   "metadata": {
    "scrolled": true
   },
   "outputs": [],
   "source": [
    "novo_df = df.drop(colunas_para_remover, axis = 1)"
   ]
  },
  {
   "cell_type": "code",
   "execution_count": 44,
   "id": "ac19c4c1",
   "metadata": {
    "scrolled": true
   },
   "outputs": [
    {
     "data": {
      "text/html": [
       "<div>\n",
       "<style scoped>\n",
       "    .dataframe tbody tr th:only-of-type {\n",
       "        vertical-align: middle;\n",
       "    }\n",
       "\n",
       "    .dataframe tbody tr th {\n",
       "        vertical-align: top;\n",
       "    }\n",
       "\n",
       "    .dataframe thead th {\n",
       "        text-align: right;\n",
       "    }\n",
       "</style>\n",
       "<table border=\"1\" class=\"dataframe\">\n",
       "  <thead>\n",
       "    <tr style=\"text-align: right;\">\n",
       "      <th></th>\n",
       "      <th>enrollee_id</th>\n",
       "      <th>city</th>\n",
       "      <th>city_development_index</th>\n",
       "      <th>gender</th>\n",
       "      <th>relevent_experience</th>\n",
       "      <th>enrolled_university</th>\n",
       "      <th>education_level</th>\n",
       "      <th>major_discipline</th>\n",
       "      <th>experience</th>\n",
       "      <th>last_new_job</th>\n",
       "      <th>training_hours</th>\n",
       "      <th>target</th>\n",
       "    </tr>\n",
       "  </thead>\n",
       "  <tbody>\n",
       "    <tr>\n",
       "      <th>0</th>\n",
       "      <td>8949</td>\n",
       "      <td>city_103</td>\n",
       "      <td>0.920</td>\n",
       "      <td>Male</td>\n",
       "      <td>Has relevent experience</td>\n",
       "      <td>no_enrollment</td>\n",
       "      <td>Graduate</td>\n",
       "      <td>STEM</td>\n",
       "      <td>&gt;20</td>\n",
       "      <td>1</td>\n",
       "      <td>36</td>\n",
       "      <td>1.0</td>\n",
       "    </tr>\n",
       "    <tr>\n",
       "      <th>1</th>\n",
       "      <td>29725</td>\n",
       "      <td>city_40</td>\n",
       "      <td>0.776</td>\n",
       "      <td>Male</td>\n",
       "      <td>No relevent experience</td>\n",
       "      <td>no_enrollment</td>\n",
       "      <td>Graduate</td>\n",
       "      <td>STEM</td>\n",
       "      <td>15</td>\n",
       "      <td>&gt;4</td>\n",
       "      <td>47</td>\n",
       "      <td>0.0</td>\n",
       "    </tr>\n",
       "    <tr>\n",
       "      <th>2</th>\n",
       "      <td>11561</td>\n",
       "      <td>city_21</td>\n",
       "      <td>0.624</td>\n",
       "      <td>NaN</td>\n",
       "      <td>No relevent experience</td>\n",
       "      <td>Full time course</td>\n",
       "      <td>Graduate</td>\n",
       "      <td>STEM</td>\n",
       "      <td>5</td>\n",
       "      <td>never</td>\n",
       "      <td>83</td>\n",
       "      <td>0.0</td>\n",
       "    </tr>\n",
       "    <tr>\n",
       "      <th>3</th>\n",
       "      <td>33241</td>\n",
       "      <td>city_115</td>\n",
       "      <td>0.789</td>\n",
       "      <td>NaN</td>\n",
       "      <td>No relevent experience</td>\n",
       "      <td>NaN</td>\n",
       "      <td>Graduate</td>\n",
       "      <td>Business Degree</td>\n",
       "      <td>&lt;1</td>\n",
       "      <td>never</td>\n",
       "      <td>52</td>\n",
       "      <td>1.0</td>\n",
       "    </tr>\n",
       "    <tr>\n",
       "      <th>4</th>\n",
       "      <td>666</td>\n",
       "      <td>city_162</td>\n",
       "      <td>0.767</td>\n",
       "      <td>Male</td>\n",
       "      <td>Has relevent experience</td>\n",
       "      <td>no_enrollment</td>\n",
       "      <td>Masters</td>\n",
       "      <td>STEM</td>\n",
       "      <td>&gt;20</td>\n",
       "      <td>4</td>\n",
       "      <td>8</td>\n",
       "      <td>0.0</td>\n",
       "    </tr>\n",
       "  </tbody>\n",
       "</table>\n",
       "</div>"
      ],
      "text/plain": [
       "   enrollee_id      city  city_development_index gender  \\\n",
       "0         8949  city_103                   0.920   Male   \n",
       "1        29725   city_40                   0.776   Male   \n",
       "2        11561   city_21                   0.624    NaN   \n",
       "3        33241  city_115                   0.789    NaN   \n",
       "4          666  city_162                   0.767   Male   \n",
       "\n",
       "       relevent_experience enrolled_university education_level  \\\n",
       "0  Has relevent experience       no_enrollment        Graduate   \n",
       "1   No relevent experience       no_enrollment        Graduate   \n",
       "2   No relevent experience    Full time course        Graduate   \n",
       "3   No relevent experience                 NaN        Graduate   \n",
       "4  Has relevent experience       no_enrollment         Masters   \n",
       "\n",
       "  major_discipline experience last_new_job  training_hours  target  \n",
       "0             STEM        >20            1              36     1.0  \n",
       "1             STEM         15           >4              47     0.0  \n",
       "2             STEM          5        never              83     0.0  \n",
       "3  Business Degree         <1        never              52     1.0  \n",
       "4             STEM        >20            4               8     0.0  "
      ]
     },
     "execution_count": 44,
     "metadata": {},
     "output_type": "execute_result"
    }
   ],
   "source": [
    "novo_df.head()"
   ]
  },
  {
   "cell_type": "code",
   "execution_count": 45,
   "id": "04ca5446",
   "metadata": {
    "scrolled": true
   },
   "outputs": [
    {
     "name": "stdout",
     "output_type": "stream",
     "text": [
      "O dataset tem 3.76 % de valores ausentes.\n"
     ]
    }
   ],
   "source": [
    "func_calc_percentual_valores_ausentes(novo_df)"
   ]
  },
  {
   "cell_type": "code",
   "execution_count": 46,
   "id": "a5ce1a0d",
   "metadata": {
    "scrolled": true
   },
   "outputs": [
    {
     "data": {
      "text/plain": [
       "Index(['enrollee_id', 'city', 'city_development_index', 'gender',\n",
       "       'relevent_experience', 'enrolled_university', 'education_level',\n",
       "       'major_discipline', 'experience', 'last_new_job', 'training_hours',\n",
       "       'target'],\n",
       "      dtype='object')"
      ]
     },
     "execution_count": 46,
     "metadata": {},
     "output_type": "execute_result"
    }
   ],
   "source": [
    "novo_df.columns"
   ]
  },
  {
   "cell_type": "code",
   "execution_count": 47,
   "id": "aa09137b",
   "metadata": {},
   "outputs": [],
   "source": [
    "colunas_manter = ['city_development_index', \n",
    "                  'experience', \n",
    "                  'enrolled_university', \n",
    "                  'relevent_experience', \n",
    "                  'education_level',\n",
    "                  'major_discipline',\n",
    "                  'target']"
   ]
  },
  {
   "cell_type": "code",
   "execution_count": 48,
   "id": "947b2f0b",
   "metadata": {},
   "outputs": [],
   "source": [
    "new_df = novo_df[colunas_manter]"
   ]
  },
  {
   "cell_type": "code",
   "execution_count": 49,
   "id": "24b68b16",
   "metadata": {
    "scrolled": true
   },
   "outputs": [
    {
     "data": {
      "text/html": [
       "<div>\n",
       "<style scoped>\n",
       "    .dataframe tbody tr th:only-of-type {\n",
       "        vertical-align: middle;\n",
       "    }\n",
       "\n",
       "    .dataframe tbody tr th {\n",
       "        vertical-align: top;\n",
       "    }\n",
       "\n",
       "    .dataframe thead th {\n",
       "        text-align: right;\n",
       "    }\n",
       "</style>\n",
       "<table border=\"1\" class=\"dataframe\">\n",
       "  <thead>\n",
       "    <tr style=\"text-align: right;\">\n",
       "      <th></th>\n",
       "      <th>city_development_index</th>\n",
       "      <th>experience</th>\n",
       "      <th>enrolled_university</th>\n",
       "      <th>relevent_experience</th>\n",
       "      <th>education_level</th>\n",
       "      <th>major_discipline</th>\n",
       "      <th>target</th>\n",
       "    </tr>\n",
       "  </thead>\n",
       "  <tbody>\n",
       "    <tr>\n",
       "      <th>0</th>\n",
       "      <td>0.920</td>\n",
       "      <td>&gt;20</td>\n",
       "      <td>no_enrollment</td>\n",
       "      <td>Has relevent experience</td>\n",
       "      <td>Graduate</td>\n",
       "      <td>STEM</td>\n",
       "      <td>1.0</td>\n",
       "    </tr>\n",
       "    <tr>\n",
       "      <th>1</th>\n",
       "      <td>0.776</td>\n",
       "      <td>15</td>\n",
       "      <td>no_enrollment</td>\n",
       "      <td>No relevent experience</td>\n",
       "      <td>Graduate</td>\n",
       "      <td>STEM</td>\n",
       "      <td>0.0</td>\n",
       "    </tr>\n",
       "    <tr>\n",
       "      <th>2</th>\n",
       "      <td>0.624</td>\n",
       "      <td>5</td>\n",
       "      <td>Full time course</td>\n",
       "      <td>No relevent experience</td>\n",
       "      <td>Graduate</td>\n",
       "      <td>STEM</td>\n",
       "      <td>0.0</td>\n",
       "    </tr>\n",
       "    <tr>\n",
       "      <th>3</th>\n",
       "      <td>0.789</td>\n",
       "      <td>&lt;1</td>\n",
       "      <td>NaN</td>\n",
       "      <td>No relevent experience</td>\n",
       "      <td>Graduate</td>\n",
       "      <td>Business Degree</td>\n",
       "      <td>1.0</td>\n",
       "    </tr>\n",
       "    <tr>\n",
       "      <th>4</th>\n",
       "      <td>0.767</td>\n",
       "      <td>&gt;20</td>\n",
       "      <td>no_enrollment</td>\n",
       "      <td>Has relevent experience</td>\n",
       "      <td>Masters</td>\n",
       "      <td>STEM</td>\n",
       "      <td>0.0</td>\n",
       "    </tr>\n",
       "  </tbody>\n",
       "</table>\n",
       "</div>"
      ],
      "text/plain": [
       "   city_development_index experience enrolled_university  \\\n",
       "0                   0.920        >20       no_enrollment   \n",
       "1                   0.776         15       no_enrollment   \n",
       "2                   0.624          5    Full time course   \n",
       "3                   0.789         <1                 NaN   \n",
       "4                   0.767        >20       no_enrollment   \n",
       "\n",
       "       relevent_experience education_level major_discipline  target  \n",
       "0  Has relevent experience        Graduate             STEM     1.0  \n",
       "1   No relevent experience        Graduate             STEM     0.0  \n",
       "2   No relevent experience        Graduate             STEM     0.0  \n",
       "3   No relevent experience        Graduate  Business Degree     1.0  \n",
       "4  Has relevent experience         Masters             STEM     0.0  "
      ]
     },
     "execution_count": 49,
     "metadata": {},
     "output_type": "execute_result"
    }
   ],
   "source": [
    "new_df.head()"
   ]
  },
  {
   "cell_type": "markdown",
   "id": "e207bb6b",
   "metadata": {},
   "source": [
    "#### Major_discipline\n"
   ]
  },
  {
   "cell_type": "code",
   "execution_count": 50,
   "id": "5d3851fe",
   "metadata": {},
   "outputs": [
    {
     "data": {
      "image/png": "[encoded data removed]",
      "text/plain": [
       "<Figure size 432x288 with 1 Axes>"
      ]
     },
     "metadata": {
      "needs_background": "light"
     },
     "output_type": "display_data"
    }
   ],
   "source": [
    "# Valores Ausentes da Variável major_discipline Antes do Processamento\n",
    "sns.countplot(data = new_df.fillna('NaN'), x = 'major_discipline')\n",
    "plt.xticks(rotation = 45)\n",
    "\n",
    "ax = plt.gca()"
   ]
  },
  {
   "cell_type": "code",
   "execution_count": 51,
   "id": "9a49aa88",
   "metadata": {
    "scrolled": true
   },
   "outputs": [
    {
     "name": "stdout",
     "output_type": "stream",
     "text": [
      "\n",
      "Total de Valores Ausentes na Variável major_discipline: 2813\n",
      "\n",
      "Proporção de Valores Ausentes na Variável education_level:\n"
     ]
    },
    {
     "data": {
      "text/plain": [
       "High School       2017\n",
       "NaN                460\n",
       "Primary School     308\n",
       "Graduate            22\n",
       "Masters              6\n",
       "Name: education_level, dtype: int64"
      ]
     },
     "execution_count": 51,
     "metadata": {},
     "output_type": "execute_result"
    }
   ],
   "source": [
    "# Relação entre major_discipline x education_level\n",
    "print('\\nTotal de Valores Ausentes na Variável major_discipline:', new_df['major_discipline'].isna().sum())\n",
    "print('\\nProporção de Valores Ausentes na Variável education_level:')\n",
    "new_df[new_df['major_discipline'].isna()]['education_level'].value_counts(dropna = False)"
   ]
  },
  {
   "cell_type": "markdown",
   "id": "27d1c0da",
   "metadata": {},
   "source": [
    " * Dentre os registros com valores ausentes, vemos a proporção na variável education_level.\n",
    "\n",
    "* Preencheremos os valores NA da variável `major_discipline` com `Non Degree`."
   ]
  },
  {
   "cell_type": "code",
   "execution_count": 52,
   "id": "ce14ea43",
   "metadata": {},
   "outputs": [],
   "source": [
    "# Cria Índice\n",
    "nan_index = (new_df[(new_df['major_discipline'].isna()) & ((new_df['education_level']=='High School') | (new_df['education_level'].isna()) | (new_df['education_level']=='Primary School'))]).index"
   ]
  },
  {
   "cell_type": "code",
   "execution_count": 53,
   "id": "48ef5a04",
   "metadata": {},
   "outputs": [
    {
     "data": {
      "text/plain": [
       "2785"
      ]
     },
     "execution_count": 53,
     "metadata": {},
     "output_type": "execute_result"
    }
   ],
   "source": [
    "len(nan_index)"
   ]
  },
  {
   "cell_type": "code",
   "execution_count": 54,
   "id": "5799b0d9",
   "metadata": {},
   "outputs": [],
   "source": [
    "# Imputação do valor ausente\n",
    "new_df['major_discipline'][nan_index] = 'Non Degree'"
   ]
  },
  {
   "cell_type": "code",
   "execution_count": 55,
   "id": "aa458071",
   "metadata": {},
   "outputs": [
    {
     "name": "stdout",
     "output_type": "stream",
     "text": [
      "Total de Valores Ausentes na Variável major_discipline: 28\n"
     ]
    },
    {
     "data": {
      "text/plain": [
       "STEM               14492\n",
       "Non Degree          2785\n",
       "Humanities           669\n",
       "Other                381\n",
       "Business Degree      327\n",
       "Arts                 253\n",
       "No Major             223\n",
       "NaN                   28\n",
       "Name: major_discipline, dtype: int64"
      ]
     },
     "execution_count": 55,
     "metadata": {},
     "output_type": "execute_result"
    }
   ],
   "source": [
    "print('Total de Valores Ausentes na Variável major_discipline:', new_df['major_discipline'].isna().sum())\n",
    "new_df['major_discipline'].value_counts(dropna = False)"
   ]
  },
  {
   "cell_type": "code",
   "execution_count": 56,
   "id": "9b9170fd",
   "metadata": {
    "scrolled": false
   },
   "outputs": [],
   "source": [
    "# Para os valores ausentes restantes preenchemos com 'Other'\n",
    "new_df[new_df['major_discipline'].isna()]  = 'Other'"
   ]
  },
  {
   "cell_type": "code",
   "execution_count": 57,
   "id": "e3748737",
   "metadata": {
    "scrolled": false
   },
   "outputs": [
    {
     "name": "stdout",
     "output_type": "stream",
     "text": [
      "Total de Valores Ausentes na Variável major_discipline: 0\n"
     ]
    },
    {
     "data": {
      "text/plain": [
       "STEM               14492\n",
       "Non Degree          2785\n",
       "Humanities           669\n",
       "Other                409\n",
       "Business Degree      327\n",
       "Arts                 253\n",
       "No Major             223\n",
       "Name: major_discipline, dtype: int64"
      ]
     },
     "execution_count": 57,
     "metadata": {},
     "output_type": "execute_result"
    }
   ],
   "source": [
    "print('Total de Valores Ausentes na Variável major_discipline:', new_df['major_discipline'].isna().sum())\n",
    "new_df['major_discipline'].value_counts(dropna = False)"
   ]
  },
  {
   "cell_type": "markdown",
   "id": "a1627c3e",
   "metadata": {},
   "source": [
    "#### Variável enrolled_university"
   ]
  },
  {
   "cell_type": "code",
   "execution_count": 58,
   "id": "6ed85e1a",
   "metadata": {},
   "outputs": [
    {
     "data": {
      "image/png": "[encoded data removed]",
      "text/plain": [
       "<Figure size 432x288 with 1 Axes>"
      ]
     },
     "metadata": {
      "needs_background": "light"
     },
     "output_type": "display_data"
    }
   ],
   "source": [
    "# Plot\n",
    "sns.countplot(data = new_df.fillna('NaN'), x = 'enrolled_university')\n",
    "plt.xticks(rotation = 45)\n",
    "ax = plt.gca()"
   ]
  },
  {
   "cell_type": "code",
   "execution_count": 59,
   "id": "399141cd",
   "metadata": {},
   "outputs": [],
   "source": [
    "# Preparar o Índice\n",
    "nan_index2 = new_df[(new_df['enrolled_university'].isna())].index"
   ]
  },
  {
   "cell_type": "code",
   "execution_count": 60,
   "id": "e6632fcf",
   "metadata": {},
   "outputs": [
    {
     "data": {
      "text/plain": [
       "385"
      ]
     },
     "execution_count": 60,
     "metadata": {},
     "output_type": "execute_result"
    }
   ],
   "source": [
    "len(nan_index2)"
   ]
  },
  {
   "cell_type": "code",
   "execution_count": 61,
   "id": "c09fcf07",
   "metadata": {},
   "outputs": [],
   "source": [
    "# Imputação dos valores Nan para a categoria 'Other'  \n",
    "new_df['enrolled_university'][nan_index2] = 'Other'"
   ]
  },
  {
   "cell_type": "code",
   "execution_count": 62,
   "id": "0e85f290",
   "metadata": {},
   "outputs": [
    {
     "name": "stdout",
     "output_type": "stream",
     "text": [
      "Total de Valores Ausentes 0\n"
     ]
    },
    {
     "data": {
      "text/plain": [
       "no_enrollment       13801\n",
       "Full time course     3747\n",
       "Part time course     1197\n",
       "Other                 413\n",
       "Name: enrolled_university, dtype: int64"
      ]
     },
     "execution_count": 62,
     "metadata": {},
     "output_type": "execute_result"
    }
   ],
   "source": [
    "print('Total de Valores Ausentes', new_df['enrolled_university'].isna().sum())\n",
    "new_df['enrolled_university'].value_counts(dropna = False)"
   ]
  },
  {
   "cell_type": "code",
   "execution_count": 63,
   "id": "7182e739",
   "metadata": {},
   "outputs": [
    {
     "data": {
      "image/png": "[encoded data removed]",
      "text/plain": [
       "<Figure size 432x288 with 1 Axes>"
      ]
     },
     "metadata": {
      "needs_background": "light"
     },
     "output_type": "display_data"
    }
   ],
   "source": [
    "# Valores Ausentes da Variável education_level  do Processamento\n",
    "sns.countplot(data = new_df.fillna('NaN'), x = 'enrolled_university')\n",
    "plt.xticks(rotation = 45)\n",
    "ax = plt.gca()"
   ]
  },
  {
   "cell_type": "markdown",
   "id": "cee5bba3",
   "metadata": {},
   "source": [
    "* Nesse caso foi escolhido uma abordagem mais genérica, em que os valores NaN foram para 'Other', junto com pessoal do Primary_Grad, para reduzir as categorias de 'enrolled_university'."
   ]
  },
  {
   "cell_type": "markdown",
   "id": "1ea329c6",
   "metadata": {},
   "source": [
    "#### Variável education_level"
   ]
  },
  {
   "cell_type": "code",
   "execution_count": 64,
   "id": "3adadde2",
   "metadata": {},
   "outputs": [
    {
     "data": {
      "image/png": "[encoded data removed]",
      "text/plain": [
       "<Figure size 432x288 with 1 Axes>"
      ]
     },
     "metadata": {
      "needs_background": "light"
     },
     "output_type": "display_data"
    }
   ],
   "source": [
    "# Plot\n",
    "sns.countplot(data = new_df.fillna('NaN'), x = 'education_level')\n",
    "plt.xticks(rotation = 45)\n",
    "ax = plt.gca()"
   ]
  },
  {
   "cell_type": "code",
   "execution_count": 65,
   "id": "57bf904c",
   "metadata": {},
   "outputs": [],
   "source": [
    "# Índice\n",
    "nan_index3 = new_df[(new_df['education_level'].isna())].index"
   ]
  },
  {
   "cell_type": "code",
   "execution_count": 66,
   "id": "3c157dd5",
   "metadata": {},
   "outputs": [],
   "source": [
    "# Imputação dos valores Nan para a categoria 'Other'  \n",
    "new_df['education_level'][nan_index3] = 'Other'"
   ]
  },
  {
   "cell_type": "code",
   "execution_count": 67,
   "id": "ac63806f",
   "metadata": {},
   "outputs": [
    {
     "data": {
      "image/png": "[encoded data removed]",
      "text/plain": [
       "<Figure size 432x288 with 1 Axes>"
      ]
     },
     "metadata": {
      "needs_background": "light"
     },
     "output_type": "display_data"
    }
   ],
   "source": [
    "sns.countplot(data = new_df.fillna('NaN'), x = 'education_level')\n",
    "plt.xticks(rotation = 45)\n",
    "ax = plt.gca()"
   ]
  },
  {
   "cell_type": "markdown",
   "id": "67554cef",
   "metadata": {},
   "source": [
    "#### Variável experience"
   ]
  },
  {
   "cell_type": "code",
   "execution_count": 68,
   "id": "be7d4760",
   "metadata": {},
   "outputs": [
    {
     "name": "stdout",
     "output_type": "stream",
     "text": [
      "<class 'pandas.core.frame.DataFrame'>\n",
      "RangeIndex: 19158 entries, 0 to 19157\n",
      "Data columns (total 7 columns):\n",
      " #   Column                  Non-Null Count  Dtype \n",
      "---  ------                  --------------  ----- \n",
      " 0   city_development_index  19158 non-null  object\n",
      " 1   experience              19095 non-null  object\n",
      " 2   enrolled_university     19158 non-null  object\n",
      " 3   relevent_experience     19158 non-null  object\n",
      " 4   education_level         19158 non-null  object\n",
      " 5   major_discipline        19158 non-null  object\n",
      " 6   target                  19158 non-null  object\n",
      "dtypes: object(7)\n",
      "memory usage: 1.0+ MB\n"
     ]
    }
   ],
   "source": [
    "new_df.info()"
   ]
  },
  {
   "cell_type": "code",
   "execution_count": 69,
   "id": "7a2fe04a",
   "metadata": {},
   "outputs": [
    {
     "data": {
      "text/plain": [
       ">20      3281\n",
       "5        1427\n",
       "4        1402\n",
       "3        1351\n",
       "6        1214\n",
       "2        1124\n",
       "7        1028\n",
       "10        982\n",
       "9         980\n",
       "8         802\n",
       "15        685\n",
       "11        664\n",
       "14        586\n",
       "1         549\n",
       "<1        520\n",
       "16        506\n",
       "12        494\n",
       "13        399\n",
       "17        342\n",
       "19        304\n",
       "18        279\n",
       "20        148\n",
       "NaN        63\n",
       "Other      28\n",
       "Name: experience, dtype: int64"
      ]
     },
     "execution_count": 69,
     "metadata": {},
     "output_type": "execute_result"
    }
   ],
   "source": [
    "new_df['experience'].value_counts(dropna = False)"
   ]
  },
  {
   "cell_type": "code",
   "execution_count": 70,
   "id": "214f4069",
   "metadata": {},
   "outputs": [
    {
     "data": {
      "text/plain": [
       "city_development_index    0.000000\n",
       "experience                0.328844\n",
       "enrolled_university       0.000000\n",
       "relevent_experience       0.000000\n",
       "education_level           0.000000\n",
       "major_discipline          0.000000\n",
       "target                    0.000000\n",
       "dtype: float64"
      ]
     },
     "execution_count": 70,
     "metadata": {},
     "output_type": "execute_result"
    }
   ],
   "source": [
    "# Percentual de valores ausentes\n",
    "percent_missing = new_df.isnull().sum() / len(new_df) * 100\n",
    "percent_missing"
   ]
  },
  {
   "cell_type": "code",
   "execution_count": 71,
   "id": "39728476",
   "metadata": {},
   "outputs": [
    {
     "data": {
      "text/plain": [
       "63"
      ]
     },
     "execution_count": 71,
     "metadata": {},
     "output_type": "execute_result"
    }
   ],
   "source": [
    "new_df['experience'].isnull().sum()"
   ]
  },
  {
   "cell_type": "code",
   "execution_count": 72,
   "id": "7739029b",
   "metadata": {},
   "outputs": [],
   "source": [
    "new_df = new_df.dropna()"
   ]
  },
  {
   "cell_type": "code",
   "execution_count": 73,
   "id": "96bc70b8",
   "metadata": {},
   "outputs": [
    {
     "data": {
      "text/plain": [
       "(19095, 7)"
      ]
     },
     "execution_count": 73,
     "metadata": {},
     "output_type": "execute_result"
    }
   ],
   "source": [
    "new_df.shape"
   ]
  },
  {
   "cell_type": "code",
   "execution_count": 74,
   "id": "0034c982",
   "metadata": {},
   "outputs": [
    {
     "data": {
      "text/plain": [
       "city_development_index    0.0\n",
       "experience                0.0\n",
       "enrolled_university       0.0\n",
       "relevent_experience       0.0\n",
       "education_level           0.0\n",
       "major_discipline          0.0\n",
       "target                    0.0\n",
       "dtype: float64"
      ]
     },
     "execution_count": 74,
     "metadata": {},
     "output_type": "execute_result"
    }
   ],
   "source": [
    "percent_missing = new_df.isnull().sum() * 100 / len(new_df)\n",
    "percent_missing"
   ]
  },
  {
   "cell_type": "markdown",
   "id": "75e51656",
   "metadata": {},
   "source": [
    "## Relatório Final\n",
    "\n",
    "#### Com base em nossa análise observamos que as variáveis mais relevantes para identificar um bom candidato são:\n",
    "\n",
    "- Índice de Desenvolvimento da cidade onde mora o candidato.\n",
    "- Tempo de experiência profissional.\n",
    "- Se está ou não matriculado em um curso universitário.\n",
    "- Se tem ou não experiência relevante.\n",
    "- O nível educacional.\n",
    "- A especialização na graduação (quando for o caso).\n",
    "\n",
    "Não são relevantes para a análise:\n",
    "\n",
    "- O ID do candidato.\n",
    "- O código da cidade do candidato.\n",
    "- O gênero.\n",
    "- A última vez que o candidato esteve empregado.\n",
    "- O tamanho da empresa (quando for o caso).\n",
    "- Total de horas de treimamento.\n",
    "\n",
    "\n",
    "**Recomendações do Analista de Dados**:\n",
    "\n",
    "- O RH pode desenvolver um método de coleta de dados para obter outros recursos a fim de melhorar a qualidade dos dados e tornar o trabalho de análise mais preciso.\n",
    "\n",
    "- O RH pode procurar candidatos que vêm de cidades com índice de desenvolvimento urbano mais baixo, sem experiência relevante, nível de educação superior e menor experiência de trabalho para ter maior chance de encontrar candidatos que estão procurando um emprego.\n",
    "\n",
    "- O RH pode tornar o treinamento mais compacto porque muitas pessoas não precisam de muito tempo para concluir o treinamento."
   ]
  },
  {
   "cell_type": "code",
   "execution_count": null,
   "id": "cf991983",
   "metadata": {},
   "outputs": [],
   "source": []
  }
 ],
 "metadata": {
  "kernelspec": {
   "display_name": "Python 3 (ipykernel)",
   "language": "python",
   "name": "python3"
  },
  "language_info": {
   "codemirror_mode": {
    "name": "ipython",
    "version": 3
   },
   "file_extension": ".py",
   "mimetype": "text/x-python",
   "name": "python",
   "nbconvert_exporter": "python",
   "pygments_lexer": "ipython3",
   "version": "3.9.12"
  }
 },
 "nbformat": 4,
 "nbformat_minor": 5
}
